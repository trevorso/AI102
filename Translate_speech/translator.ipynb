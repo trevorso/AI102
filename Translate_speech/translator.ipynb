{
 "cells": [
  {
   "cell_type": "code",
   "execution_count": null,
   "metadata": {},
   "outputs": [],
   "source": [
    "#pip\n",
    "#pip install azure-cognitiveservices-speech==1.24.0"
   ]
  },
  {
   "cell_type": "code",
   "execution_count": null,
   "metadata": {},
   "outputs": [],
   "source": [
    "from dotenv import load_dotenv\n",
    "from datetime import datetime\n",
    "import os"
   ]
  },
  {
   "cell_type": "code",
   "execution_count": null,
   "metadata": {},
   "outputs": [],
   "source": [
    "#import namespace\n",
    "import azure.cognitiveservices.speech as speech_sdk"
   ]
  },
  {
   "cell_type": "code",
   "execution_count": null,
   "metadata": {},
   "outputs": [],
   "source": [
    "def main():\n",
    "    try:\n",
    "        global cog_key\n",
    "        global speech_config\n",
    "        global translation_config\n",
    "        load_dotenv()\n",
    "        cog_key=os.getenv(\"COG_SERVICE_KEY\")\n",
    "        cog_region=os.getenv(\"COG_SERVICE_REGION\")\n",
    "\n",
    "        #Configure translation\n",
    "        translation_config = speech_sdk.translation.SpeechTranslationConfig(cog_key,cog_region)\n",
    "        translation_config.speech_recognition_language = 'en-US'\n",
    "        translation_config.add_target_language('fr')\n",
    "        translation_config.add_target_language('es')\n",
    "        translation_config.add_target_language('hi')\n",
    "        print('Readu tp translate from',translation_config.speech_recognition_language)\n",
    "\n",
    "        #Configure speech\n",
    "        speech_config = speech_sdk.SpeechConfig(cog_key, cog_region)\n",
    "        \n",
    "        #Get user input\n",
    "        targetLanguage = ''\n",
    "        while targetLanguage != \"quit\":\n",
    "            targetLanguage = input('\\nEnter a target language\\n fr = French\\n es = Spanish\\n hi = Hindi\\n Enter anything else to stop').lower()\n",
    "            if targetLanguage in translation_config.target_languages:\n",
    "                Translate(targetLanguage)\n",
    "            else:\n",
    "                targetLanguage = 'quit'\n",
    "\n",
    "\n",
    "    except Exception as ex:\n",
    "        print(ex)\n"
   ]
  },
  {
   "cell_type": "code",
   "execution_count": null,
   "metadata": {},
   "outputs": [],
   "source": [
    "def Translate(targetLanguage):\n",
    "    translation = ''\n",
    "\n",
    "    # Translate speech\n",
    "    audio_config = speech_sdk.AudioConfig(use_default_microphone=True)\n",
    "    translator = speech_sdk.translation.TranslationRecognizer(translation_config, audio_config)\n",
    "    print(\"Speak now...\")\n",
    "    result = translator.recognize_once_async().get()\n",
    "    print('Translating \"{}\"'.format(result.text))\n",
    "    translation = result.translations[targetLanguage]\n",
    "    print(translation)\n",
    "\n",
    "    # Synthesize translation\n",
    "    voices = {\n",
    "        \"fr\":\"fr-FR-HenriNeural\",\n",
    "        \"es\":\"es-ES-ElviraNeural\",\n",
    "        \"hi\":\"hi-IN-MadhurNeural\"\n",
    "    }\n",
    "    speech_config.speech_synthesis_voice_name = voices.get(targetLanguage)\n",
    "    speech_synthesizer = speech_sdk.SpeechSynthesizer(speech_config)\n",
    "    speak = speech_synthesizer.speak_text_async(translation).get()\n",
    "    if speak.reason != speech_sdk.ResultReason.SynthesizingAudioCompleted:\n",
    "        print(speak.reason)"
   ]
  },
  {
   "cell_type": "code",
   "execution_count": null,
   "metadata": {},
   "outputs": [],
   "source": [
    "if __name__ == \"__main__\":\n",
    "    main()"
   ]
  }
 ],
 "metadata": {
  "language_info": {
   "name": "python"
  },
  "orig_nbformat": 4
 },
 "nbformat": 4,
 "nbformat_minor": 2
}
