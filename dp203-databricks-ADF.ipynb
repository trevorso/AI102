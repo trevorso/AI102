{
 "cells": [
  {
   "cell_type": "code",
   "execution_count": null,
   "metadata": {},
   "outputs": [],
   "source": [
    "# Use dbutils.widget define a \"folder\" variable with a default value\n",
    "dbutils.widgets.text(\"folder\", \"data\")\n",
    "# Now get the parameter value (if no value was passed, the default set above will be used)\n",
    "folder = dbutils.widgets.get(\"folder\")"
   ]
  },
  {
   "cell_type": "code",
   "execution_count": null,
   "metadata": {},
   "outputs": [],
   "source": [
    "import urllib3\n",
    "\n",
    "# Download product data from GitHub\n",
    "response = urllib3.PoolManager().request('GET', 'https://raw.githubusercontent.com/MicrosoftLearning/dp-203-azure-data-engineer/master/Allfiles/labs/27/data/products.csv')\n",
    "\n",
    "data = response.data.decode(\"utf-8\")\n",
    "\n",
    "# Save the product data to the specified folder\n",
    "path = \"dbfs:/{0}/products.csv\".format(folder)\n",
    "dbutils.fs.put(path, data, True)"
   ]
  }
 ],
 "metadata": {
  "language_info": {
   "name": "python"
  },
  "orig_nbformat": 4
 },
 "nbformat": 4,
 "nbformat_minor": 2
}
