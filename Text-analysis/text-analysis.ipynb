{
 "cells": [
  {
   "cell_type": "code",
   "execution_count": null,
   "metadata": {},
   "outputs": [],
   "source": [
    "from dotenv import load_dotenv\n",
    "import os"
   ]
  },
  {
   "cell_type": "code",
   "execution_count": null,
   "metadata": {},
   "outputs": [],
   "source": [
    "#Import namespaces\n",
    "from azure.core.credentials import AuzreKeyCredential\n",
    "from azure.ai.textanalytics import TextAnalyticsClient"
   ]
  },
  {
   "cell_type": "code",
   "execution_count": null,
   "metadata": {},
   "outputs": [],
   "source": [
    "def main():\n",
    "    try:\n",
    "        load_dotenv()\n",
    "        global cog_key\n",
    "        global cog_endpoint\n",
    "        cog_key = os.getenv('COG_SERVICE_KEY')\n",
    "        cog_endpoint = os.getenv('COG_SERVICE_ENDPOINT')\n",
    "\n",
    "        #Create client using endpoint and key\n",
    "        credential = AzureKeyCredential(cog_key)\n",
    "        cog_client = TextAnalyticsClient(endpoint = cog_endpoint, credential=credential)\n",
    "\n",
    "        #Analyze each text file in the reviews folder\n",
    "        reviews_folder = 'reviews'\n",
    "        for file_name in os.listdir(reviews_folder):\n",
    "            text=open(os.path.join(reviews_folder,file_name), encoding='utf8').read()\n",
    "        # Get language\n",
    "            detectedLanguage = cog_client.detect_language(documents=[text])[0]\n",
    "            print('\\nLanguage:{}'.format(detectedLanguage.primary_language.name))\n",
    "\n",
    "        #Get sentiment\n",
    "            sentiment = cog_client.analyze_sentiment(documents=[text])[0]\n",
    "            print('\\nSentiment:{}'.format(sentiment.sentiment))\n",
    "        \n",
    "        #Get key phrases\n",
    "            phrases = cog_lient.extract_key_phrases(documents=[text])[0].key_phrases\n",
    "            if len(phrases) > 0:\n",
    "                print(\"\\nKey Phrases:\")\n",
    "                for phrase in phrases:\n",
    "                    print('\\t{}'.format(phrase))\n",
    "        \n",
    "        #Get entities\n",
    "        entities = cog_client.recognize_entities(documents=[text])[0].entities\n",
    "        if len(entities)>0:\n",
    "            for entity in entities:\n",
    "                print(entity.text, entity.category)\n",
    "\n",
    "        #Get linked entities\n",
    "        Linked_entities = cog_client.recognize_linked_entities(documents=[text])[0].entities\n",
    "        for linked_entity in Linked_entities:\n",
    "            print(linked_entity.name, linked_entity.url)\n",
    "    except Exception as ex:\n",
    "        print(ex)"
   ]
  },
  {
   "cell_type": "code",
   "execution_count": null,
   "metadata": {},
   "outputs": [],
   "source": [
    "if __name__ == '__main__':\n",
    "    main()"
   ]
  }
 ],
 "metadata": {
  "language_info": {
   "name": "python"
  },
  "orig_nbformat": 4
 },
 "nbformat": 4,
 "nbformat_minor": 2
}
