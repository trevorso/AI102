{
 "cells": [
  {
   "cell_type": "code",
   "execution_count": 5,
   "metadata": {},
   "outputs": [],
   "source": [
    "from dotenv import load_dotenv\n",
    "import os\n",
    "import requests, json"
   ]
  },
  {
   "cell_type": "code",
   "execution_count": 8,
   "metadata": {},
   "outputs": [
    {
     "name": "stdout",
     "output_type": "stream",
     "text": [
      "['review5.txt', 'review1.txt']\n"
     ]
    }
   ],
   "source": [
    "def main():\n",
    "    global translator_endpoint\n",
    "    global cog_key\n",
    "    global cog_region\n",
    "    try:\n",
    "        load_dotenv()\n",
    "        # Get Configuration Settings\n",
    "        cog_key = os.getenv('COG_SERVICE_KEY')\n",
    "        cog_region = os.getenv('COG_SERVICE_REGION')\n",
    "        translator_endpoint = 'https://api.cognitive.microsofttranslator.com'  \n",
    "        # Analyze each text file in the reviews folder\n",
    "        folder_name = 'review'\n",
    "        print(os.listdir(folder_name))\n",
    "        # Read the file contents   \n",
    "        for file_name in os.listdri(folder_name):\n",
    "            text = open(os.path.join('review','filename'), endcoding='utf8').read()\n",
    "            print('\\n' + text)\n",
    "            # Detect the language \n",
    "            language = GetLanguage(text)\n",
    "        # Translate if not already English\n",
    "        if language != 'en':\n",
    "            translation = Translate(text, language)\n",
    "            print(\"\\nTranslation:\\n{}\".format(translation))\n",
    "    except Exception as ex:\n",
    "        print(ex)\n",
    "main()"
   ]
  },
  {
   "cell_type": "code",
   "execution_count": null,
   "metadata": {},
   "outputs": [],
   "source": [
    "def GetLanguage(text):\n",
    "    # Default language is English \n",
    "    language = 'en'   \n",
    "    # Use the Translator detect function  \n",
    "    path = '/detect'\n",
    "    url = translator_endpoint + path\n",
    "    # Build the request  \n",
    "    params = {\n",
    "        'api-version': '3.0'\n",
    "    }\n",
    "    headers = {\n",
    "        'Ocp-Apim-Subscription-key':cog_key,\n",
    "        'Ocp-Apim-Subscription-region':cog_region,\n",
    "        'Content-type':'application/json'\n",
    "    }\n",
    "    body = [\n",
    "        {'text':text}\n",
    "    ]\n",
    "    # Send the request and get response\n",
    "    requests = requests.post(url, params = params, headers = headers, json = body)\n",
    "    response = requests.json()\n",
    "    # Parse JSON array and get language\n",
    "    language = response[0][\"language\"]\n",
    "\n",
    "    # Return the language\n",
    "    return language"
   ]
  },
  {
   "cell_type": "code",
   "execution_count": null,
   "metadata": {},
   "outputs": [],
   "source": [
    "def Translate(text, source_language):\n",
    "    # Use the Translator translate function\n",
    "    translation = ''\n",
    "    path = '/translate'\n",
    "    url = translator_endpoint + path\n",
    "    # Build the request\n",
    "    params = {\n",
    "        'api-version':3.0,\n",
    "        'from': source_language,\n",
    "        'to':['en']\n",
    "    }\n",
    "    headers ={\n",
    "        'Ocp-Apim-Subscription-key':cog_key,\n",
    "        'Ocp-Apim-Subcription-region':cog_region,\n",
    "        'Content-type':'application/json'\n",
    "    }\n",
    "    body = [\n",
    "        {'text':text}\n",
    "    ]\n",
    "    # Send the request and get response\n",
    "    request = requests.post(url, params=params, headers=headers, json=body)\n",
    "    response = request.json()\n",
    "    # Parse JSON array and get translation \n",
    "    translation = response[0]['translates'][0][\"text\"]\n",
    "    # Return the translation\n",
    "    return translation"
   ]
  },
  {
   "cell_type": "code",
   "execution_count": null,
   "metadata": {},
   "outputs": [],
   "source": [
    "if __name__ == \"__main__\":\n",
    "    main()"
   ]
  }
 ],
 "metadata": {
  "kernelspec": {
   "display_name": "Python 3",
   "language": "python",
   "name": "python3"
  },
  "language_info": {
   "codemirror_mode": {
    "name": "ipython",
    "version": 3
   },
   "file_extension": ".py",
   "mimetype": "text/x-python",
   "name": "python",
   "nbconvert_exporter": "python",
   "pygments_lexer": "ipython3",
   "version": "3.10.4"
  },
  "orig_nbformat": 4
 },
 "nbformat": 4,
 "nbformat_minor": 2
}
