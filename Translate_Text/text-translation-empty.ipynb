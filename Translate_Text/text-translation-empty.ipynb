{
 "cells": [
  {
   "cell_type": "code",
   "execution_count": 2,
   "metadata": {},
   "outputs": [],
   "source": [
    "#Install pacakages\n",
    "from dotenv import load_dotenv\n",
    "import os\n",
    "import requests, json"
   ]
  },
  {
   "cell_type": "code",
   "execution_count": 5,
   "metadata": {},
   "outputs": [],
   "source": [
    "def main():\n",
    "    # Get Configuration Settings\n",
    "    global cog_key\n",
    "    global cog_region\n",
    "    global translator_endpoint\n",
    "    try:\n",
    "        cog_key = os.getenv('COG_SERVICE_KEY')\n",
    "        cog_region = os.getenv('COG_SERVICE_REGION')\n",
    "        translator_endpoint = 'https://api.cognitive.microsofttranslator.com'  \n",
    "\n",
    "        # Analyze each text file in the reviews folder\n",
    "        folder_name = 'review'\n",
    "        for file_name in os.listdir(folder_name):\n",
    "            text = open(os.path.join(folder_name,file_name), encoding='utf8').read()\n",
    "\n",
    "        # Detect the language \n",
    "        language = GetLanguage(text)\n",
    "        print(\"Language: \", language)\n",
    "\n",
    "        # Translate if not already English\n",
    "        if language != 'en':\n",
    "            translation = translate(text)\n",
    "            print('transation:{}'.format(translation))\n",
    "    except Exception as ex:\n",
    "        print(ex)"
   ]
  },
  {
   "cell_type": "code",
   "execution_count": null,
   "metadata": {},
   "outputs": [],
   "source": [
    "def GetLanguage(text):\n",
    "    # Default language is English \n",
    "    language = 'en'\n",
    "    # Use the Translator detect function  \n",
    "    path = '/detect'\n",
    "    url = translator_endpoint + path\n",
    "    # Build the request  \n",
    "    params = {'api-version:3.0'}\n",
    "    header = {\n",
    "        'Ocp-Apim-Subscription-key':cog_key,\n",
    "        'Ocp-Apim-Subscription-region':cog_region,\n",
    "        'Content-type': 'application/json'\n",
    "    }\n",
    "    body = [{'text':text}]\n",
    "    # Send the request and get response\n",
    "    requests = requests.post(url, params= params, header= header, json=body)\n",
    "    responses = requests.json()\n",
    "    # Parse JSON array and get language\n",
    "    language = responses[0]['language']\n",
    "    # Return the language\n",
    "    return language"
   ]
  },
  {
   "cell_type": "code",
   "execution_count": null,
   "metadata": {},
   "outputs": [],
   "source": [
    "def translate(text, source_language):\n",
    "# Use the Translator translate function\n",
    "    path = '/translate'\n",
    "    url = translator_endpoint + path\n",
    "# Build the request\n",
    "    params = {'api-version':3.0,\n",
    "              'from':source_language,\n",
    "              'to':['en']}\n",
    "    header = {\n",
    "        'Ocp-Apim-Subscription-key':cog_key,\n",
    "        'Ocp-Apim-Subscription-regin':cog_region,\n",
    "        'Content-type': 'application/json'\n",
    "    }\n",
    "    body = [{'text':text}]\n",
    "# Send the request and get response\n",
    "\n",
    "# Parse JSON array and get translation \n",
    "\n",
    "# Return the translation"
   ]
  },
  {
   "cell_type": "code",
   "execution_count": null,
   "metadata": {},
   "outputs": [],
   "source": [
    "if __name__ == '__main__':\n",
    "    main()"
   ]
  }
 ],
 "metadata": {
  "kernelspec": {
   "display_name": "Python 3",
   "language": "python",
   "name": "python3"
  },
  "language_info": {
   "codemirror_mode": {
    "name": "ipython",
    "version": 3
   },
   "file_extension": ".py",
   "mimetype": "text/x-python",
   "name": "python",
   "nbconvert_exporter": "python",
   "pygments_lexer": "ipython3",
   "version": "3.10.4"
  },
  "orig_nbformat": 4
 },
 "nbformat": 4,
 "nbformat_minor": 2
}
