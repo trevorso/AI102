{
 "cells": [
  {
   "cell_type": "code",
   "execution_count": null,
   "metadata": {},
   "outputs": [],
   "source": [
    "#Alternatively, use audio input from a file\n",
    "#pip install playsound==1.2.2\n",
    "#from playsound import playsound"
   ]
  },
  {
   "cell_type": "code",
   "execution_count": null,
   "metadata": {},
   "outputs": [],
   "source": [
    "from dotenv import load_dotenv\n",
    "from datetime import datetime\n",
    "import os\n",
    "# Import namespaces\n",
    "import azure.cognitiveservices.speech as speech_sdk"
   ]
  },
  {
   "cell_type": "code",
   "execution_count": null,
   "metadata": {},
   "outputs": [],
   "source": [
    "def main():\n",
    "    try:\n",
    "        global speech_config\n",
    "\n",
    "        #Get Configuarion Settings\n",
    "        load_dotenv()\n",
    "        cog_key = os.getenv('COG_SERVICE_KEY')\n",
    "        cog_region = os.getenv('COG_SERVICE_REGION')\n",
    "        #Configure speech service\n",
    "        speech_config = speech_sdk(cog_key, cog_region)\n",
    "        print('Ready to use speech service in: ', speech_config.region)\n",
    "        #Get spoken input\n",
    "        command = TranscribeCommand()\n",
    "        if command.lower() == 'what time is it?':\n",
    "            TellTime()\n",
    "            \n",
    "    except Exception as ex:\n",
    "        print(ex)"
   ]
  },
  {
   "cell_type": "code",
   "execution_count": null,
   "metadata": {},
   "outputs": [],
   "source": [
    "def TranscribeCommand():\n",
    "    command = ''\n",
    "\n",
    "    #Configure speech recognition\n",
    "    audio_config = speech_sdk.AudioConfig(use_default_microphone=True)\n",
    "    speech_recognizer = speech_sdk.SpeechRecognizer(speech_config, audio_config)\n",
    "    print('Speak now...')\n",
    "\n",
    "    #Process speech input\n",
    "    speech = speech_recognizer.recognize_once_async().get()\n",
    "    if speech.reason == speech.sdk.ResultReason.RecognizedSpeech:\n",
    "        command = speech.text\n",
    "        print(command)\n",
    "    else:\n",
    "        print(speech.reason)\n",
    "        if speech.reason == speech_sdk.ResultReason.Canceled:\n",
    "            cancellation = speech.cancellation_details\n",
    "            print(cancellation.reason)\n",
    "            print(cancellation.error_details)\n",
    "    \n",
    "    #Return the command\n",
    "    return command"
   ]
  },
  {
   "cell_type": "code",
   "execution_count": null,
   "metadata": {},
   "outputs": [],
   "source": [
    "#Alternatively\n",
    "def TranscribeCommand_by_file(audioFile):\n",
    "    from playsound import playsound\n",
    "    playsound(audioFile)\n",
    "    audio_config = speech_sdk.AudioConfig(filename=audioFile)\n",
    "    speech_recognizer = speech_sdk.SpeechRecognizer(speech_config, audio_config)\n",
    "    # Process speech input\n",
    "    speech = speech_recognizer.recognize_once_async().get()\n",
    "    if speech.reason == speech_sdk.ResultReason.RecognizedSpeech:\n",
    "        command = speech.text\n",
    "        print(command)\n",
    "    else:\n",
    "        print(speech.reason)\n",
    "        if speech.reason == speech_sdk.ResultReason.Canceled:\n",
    "            cancellation = speech.cancellation_details\n",
    "            print(cancellation.reason)\n",
    "            print(cancellation.error_details)"
   ]
  },
  {
   "cell_type": "code",
   "execution_count": null,
   "metadata": {},
   "outputs": [],
   "source": [
    "def TellTime():\n",
    "    now = datetime.now()\n",
    "    response_text = 'The time is {}:{:02d}'.format(now.hour,now.minute)\n",
    "\n",
    "    #Configure speech synthesis\n",
    "    # 'en-GB-LibbyNeural' to use another voice\n",
    "    speech_config.speech_synthesis_voice_name = \"en-GB-RyanNeural\"\n",
    "    speech_synthesizer = speech_sdk.SpeechSynthesizer(speech_config)\n",
    "\n",
    "    #Synthesize spoken output\n",
    "    speak = speech_synthesizer.speak_text_async(response_text).get()\n",
    "    if speak.reason != speech_sdk.ResultReason.SynthesizingAudioCompleted:\n",
    "        print(speak.reason)\n",
    "\n",
    "    #############################################################################################\n",
    "    #User Speech Synthesis Markup Language(SSML)\n",
    "    #     responseSsml = \"\\        \n",
    "    #       <speak version='1.0' xmlns='http://www.w3.org/2001/10/synthesis' \n",
    "    #       xml:lang='en-US'> \\        \n",
    "    #       <voice name='en-GB-LibbyNeural'> \\            \n",
    "    #        {} \\            \n",
    "    #       <break strength='weak'/> \\            \n",
    "    #       Time to end this lab! \\        \n",
    "    #       </voice> \\\n",
    "    #       </speak>\".format(response_text)\n",
    "    #       speak = speech_synthesizer.speak_ssml_async(responseSsml).get()\n",
    "    #       if speak.reason != speech_sdk.ResultReason.SynthesizingAudioCompleted:\n",
    "    #            print(speak.reason)\n",
    "    #############################################################################################\n",
    "    #Print the response\n",
    "    print(response_text)"
   ]
  },
  {
   "cell_type": "code",
   "execution_count": null,
   "metadata": {},
   "outputs": [],
   "source": [
    "if __name__ == \"__main__\":\n",
    "    main()"
   ]
  }
 ],
 "metadata": {
  "language_info": {
   "name": "python"
  },
  "orig_nbformat": 4
 },
 "nbformat": 4,
 "nbformat_minor": 2
}
